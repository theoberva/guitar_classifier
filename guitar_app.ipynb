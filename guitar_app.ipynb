{
  "nbformat": 4,
  "nbformat_minor": 0,
  "metadata": {
    "colab": {
      "provenance": [],
      "authorship_tag": "ABX9TyNVXnWr/BgmQ1RBNr6FJZWp",
      "include_colab_link": true
    },
    "kernelspec": {
      "name": "python3",
      "display_name": "Python 3"
    },
    "language_info": {
      "name": "python"
    },
    "widgets": {
      "application/vnd.jupyter.widget-state+json": {
        "9b7a12bbf8fc4bcb9c04b4ea6fc49148": {
          "model_module": "@jupyter-widgets/controls",
          "model_name": "FileUploadModel",
          "model_module_version": "1.5.0",
          "state": {
            "_counter": 2,
            "_dom_classes": [],
            "_model_module": "@jupyter-widgets/controls",
            "_model_module_version": "1.5.0",
            "_model_name": "FileUploadModel",
            "_view_count": null,
            "_view_module": "@jupyter-widgets/controls",
            "_view_module_version": "1.5.0",
            "_view_name": "FileUploadView",
            "accept": "",
            "button_style": "",
            "data": [
              null
            ],
            "description": "Upload",
            "description_tooltip": null,
            "disabled": false,
            "error": "",
            "icon": "upload",
            "layout": "IPY_MODEL_d20114adf2364c44a2a9b9e0749c4571",
            "metadata": [
              {
                "name": "Screenshot 2023-07-26 171332.png",
                "type": "image/png",
                "size": 452950,
                "lastModified": 1690355625537
              }
            ],
            "multiple": false,
            "style": "IPY_MODEL_0f5e3421d6fb4dba999f24a7785fd81d"
          }
        },
        "d20114adf2364c44a2a9b9e0749c4571": {
          "model_module": "@jupyter-widgets/base",
          "model_name": "LayoutModel",
          "model_module_version": "1.2.0",
          "state": {
            "_model_module": "@jupyter-widgets/base",
            "_model_module_version": "1.2.0",
            "_model_name": "LayoutModel",
            "_view_count": null,
            "_view_module": "@jupyter-widgets/base",
            "_view_module_version": "1.2.0",
            "_view_name": "LayoutView",
            "align_content": null,
            "align_items": null,
            "align_self": null,
            "border": null,
            "bottom": null,
            "display": null,
            "flex": null,
            "flex_flow": null,
            "grid_area": null,
            "grid_auto_columns": null,
            "grid_auto_flow": null,
            "grid_auto_rows": null,
            "grid_column": null,
            "grid_gap": null,
            "grid_row": null,
            "grid_template_areas": null,
            "grid_template_columns": null,
            "grid_template_rows": null,
            "height": null,
            "justify_content": null,
            "justify_items": null,
            "left": null,
            "margin": null,
            "max_height": null,
            "max_width": null,
            "min_height": null,
            "min_width": null,
            "object_fit": null,
            "object_position": null,
            "order": null,
            "overflow": null,
            "overflow_x": null,
            "overflow_y": null,
            "padding": null,
            "right": null,
            "top": null,
            "visibility": null,
            "width": null
          }
        },
        "0f5e3421d6fb4dba999f24a7785fd81d": {
          "model_module": "@jupyter-widgets/controls",
          "model_name": "ButtonStyleModel",
          "model_module_version": "1.5.0",
          "state": {
            "_model_module": "@jupyter-widgets/controls",
            "_model_module_version": "1.5.0",
            "_model_name": "ButtonStyleModel",
            "_view_count": null,
            "_view_module": "@jupyter-widgets/base",
            "_view_module_version": "1.2.0",
            "_view_name": "StyleView",
            "button_color": null,
            "font_weight": ""
          }
        },
        "aa9b32e69b284898838b80e77ed6fbf2": {
          "model_module": "@jupyter-widgets/controls",
          "model_name": "VBoxModel",
          "model_module_version": "1.5.0",
          "state": {
            "_dom_classes": [],
            "_model_module": "@jupyter-widgets/controls",
            "_model_module_version": "1.5.0",
            "_model_name": "VBoxModel",
            "_view_count": null,
            "_view_module": "@jupyter-widgets/controls",
            "_view_module_version": "1.5.0",
            "_view_name": "VBoxView",
            "box_style": "",
            "children": [
              "IPY_MODEL_09aeee7fae834d62a157b4006b44460e",
              "IPY_MODEL_9b7a12bbf8fc4bcb9c04b4ea6fc49148",
              "IPY_MODEL_24ad4dbcf16e4ea0a43335eb957c6741",
              "IPY_MODEL_390fd295c7464465a45837268eed6c6c",
              "IPY_MODEL_ef73e216a0e249ca8f56723fa5454454"
            ],
            "layout": "IPY_MODEL_534dfada2190433398a6b7bedd834d1f"
          }
        },
        "09aeee7fae834d62a157b4006b44460e": {
          "model_module": "@jupyter-widgets/controls",
          "model_name": "LabelModel",
          "model_module_version": "1.5.0",
          "state": {
            "_dom_classes": [],
            "_model_module": "@jupyter-widgets/controls",
            "_model_module_version": "1.5.0",
            "_model_name": "LabelModel",
            "_view_count": null,
            "_view_module": "@jupyter-widgets/controls",
            "_view_module_version": "1.5.0",
            "_view_name": "LabelView",
            "description": "",
            "description_tooltip": null,
            "layout": "IPY_MODEL_0364a3aa97d3400293d485f3e07e6d2e",
            "placeholder": "​",
            "style": "IPY_MODEL_ee8581afb968471b83ccc4b7d3b8d913",
            "value": "Upload your guitar!"
          }
        },
        "24ad4dbcf16e4ea0a43335eb957c6741": {
          "model_module": "@jupyter-widgets/controls",
          "model_name": "ButtonModel",
          "model_module_version": "1.5.0",
          "state": {
            "_dom_classes": [],
            "_model_module": "@jupyter-widgets/controls",
            "_model_module_version": "1.5.0",
            "_model_name": "ButtonModel",
            "_view_count": null,
            "_view_module": "@jupyter-widgets/controls",
            "_view_module_version": "1.5.0",
            "_view_name": "ButtonView",
            "button_style": "",
            "description": "Classify",
            "disabled": false,
            "icon": "",
            "layout": "IPY_MODEL_2d36c9f0b9ac49e19ff945cffb9134f7",
            "style": "IPY_MODEL_2c1de732f5d2413b8c456f601936eb3d",
            "tooltip": ""
          }
        },
        "390fd295c7464465a45837268eed6c6c": {
          "model_module": "@jupyter-widgets/output",
          "model_name": "OutputModel",
          "model_module_version": "1.0.0",
          "state": {
            "_dom_classes": [],
            "_model_module": "@jupyter-widgets/output",
            "_model_module_version": "1.0.0",
            "_model_name": "OutputModel",
            "_view_count": null,
            "_view_module": "@jupyter-widgets/output",
            "_view_module_version": "1.0.0",
            "_view_name": "OutputView",
            "layout": "IPY_MODEL_908355bb1c1148ae9fcc0f2673498361",
            "msg_id": "",
            "outputs": [
              {
                "output_type": "display_data",
                "data": {
                  "text/plain": "<PIL.Image.Image image mode=RGB size=128x48>",
                  "image/png": "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\n"
                },
                "metadata": {}
              }
            ]
          }
        },
        "ef73e216a0e249ca8f56723fa5454454": {
          "model_module": "@jupyter-widgets/controls",
          "model_name": "LabelModel",
          "model_module_version": "1.5.0",
          "state": {
            "_dom_classes": [],
            "_model_module": "@jupyter-widgets/controls",
            "_model_module_version": "1.5.0",
            "_model_name": "LabelModel",
            "_view_count": null,
            "_view_module": "@jupyter-widgets/controls",
            "_view_module_version": "1.5.0",
            "_view_name": "LabelView",
            "description": "",
            "description_tooltip": null,
            "layout": "IPY_MODEL_13e877b691da49b8a6133a1613ac42ea",
            "placeholder": "​",
            "style": "IPY_MODEL_ed170be5a4e847ad929e5c0a98ae1be6",
            "value": "Prediction: fender stratocaster; Probability: 0.7428"
          }
        },
        "534dfada2190433398a6b7bedd834d1f": {
          "model_module": "@jupyter-widgets/base",
          "model_name": "LayoutModel",
          "model_module_version": "1.2.0",
          "state": {
            "_model_module": "@jupyter-widgets/base",
            "_model_module_version": "1.2.0",
            "_model_name": "LayoutModel",
            "_view_count": null,
            "_view_module": "@jupyter-widgets/base",
            "_view_module_version": "1.2.0",
            "_view_name": "LayoutView",
            "align_content": null,
            "align_items": null,
            "align_self": null,
            "border": null,
            "bottom": null,
            "display": null,
            "flex": null,
            "flex_flow": null,
            "grid_area": null,
            "grid_auto_columns": null,
            "grid_auto_flow": null,
            "grid_auto_rows": null,
            "grid_column": null,
            "grid_gap": null,
            "grid_row": null,
            "grid_template_areas": null,
            "grid_template_columns": null,
            "grid_template_rows": null,
            "height": null,
            "justify_content": null,
            "justify_items": null,
            "left": null,
            "margin": null,
            "max_height": null,
            "max_width": null,
            "min_height": null,
            "min_width": null,
            "object_fit": null,
            "object_position": null,
            "order": null,
            "overflow": null,
            "overflow_x": null,
            "overflow_y": null,
            "padding": null,
            "right": null,
            "top": null,
            "visibility": null,
            "width": null
          }
        },
        "0364a3aa97d3400293d485f3e07e6d2e": {
          "model_module": "@jupyter-widgets/base",
          "model_name": "LayoutModel",
          "model_module_version": "1.2.0",
          "state": {
            "_model_module": "@jupyter-widgets/base",
            "_model_module_version": "1.2.0",
            "_model_name": "LayoutModel",
            "_view_count": null,
            "_view_module": "@jupyter-widgets/base",
            "_view_module_version": "1.2.0",
            "_view_name": "LayoutView",
            "align_content": null,
            "align_items": null,
            "align_self": null,
            "border": null,
            "bottom": null,
            "display": null,
            "flex": null,
            "flex_flow": null,
            "grid_area": null,
            "grid_auto_columns": null,
            "grid_auto_flow": null,
            "grid_auto_rows": null,
            "grid_column": null,
            "grid_gap": null,
            "grid_row": null,
            "grid_template_areas": null,
            "grid_template_columns": null,
            "grid_template_rows": null,
            "height": null,
            "justify_content": null,
            "justify_items": null,
            "left": null,
            "margin": null,
            "max_height": null,
            "max_width": null,
            "min_height": null,
            "min_width": null,
            "object_fit": null,
            "object_position": null,
            "order": null,
            "overflow": null,
            "overflow_x": null,
            "overflow_y": null,
            "padding": null,
            "right": null,
            "top": null,
            "visibility": null,
            "width": null
          }
        },
        "ee8581afb968471b83ccc4b7d3b8d913": {
          "model_module": "@jupyter-widgets/controls",
          "model_name": "DescriptionStyleModel",
          "model_module_version": "1.5.0",
          "state": {
            "_model_module": "@jupyter-widgets/controls",
            "_model_module_version": "1.5.0",
            "_model_name": "DescriptionStyleModel",
            "_view_count": null,
            "_view_module": "@jupyter-widgets/base",
            "_view_module_version": "1.2.0",
            "_view_name": "StyleView",
            "description_width": ""
          }
        },
        "2d36c9f0b9ac49e19ff945cffb9134f7": {
          "model_module": "@jupyter-widgets/base",
          "model_name": "LayoutModel",
          "model_module_version": "1.2.0",
          "state": {
            "_model_module": "@jupyter-widgets/base",
            "_model_module_version": "1.2.0",
            "_model_name": "LayoutModel",
            "_view_count": null,
            "_view_module": "@jupyter-widgets/base",
            "_view_module_version": "1.2.0",
            "_view_name": "LayoutView",
            "align_content": null,
            "align_items": null,
            "align_self": null,
            "border": null,
            "bottom": null,
            "display": null,
            "flex": null,
            "flex_flow": null,
            "grid_area": null,
            "grid_auto_columns": null,
            "grid_auto_flow": null,
            "grid_auto_rows": null,
            "grid_column": null,
            "grid_gap": null,
            "grid_row": null,
            "grid_template_areas": null,
            "grid_template_columns": null,
            "grid_template_rows": null,
            "height": null,
            "justify_content": null,
            "justify_items": null,
            "left": null,
            "margin": null,
            "max_height": null,
            "max_width": null,
            "min_height": null,
            "min_width": null,
            "object_fit": null,
            "object_position": null,
            "order": null,
            "overflow": null,
            "overflow_x": null,
            "overflow_y": null,
            "padding": null,
            "right": null,
            "top": null,
            "visibility": null,
            "width": null
          }
        },
        "2c1de732f5d2413b8c456f601936eb3d": {
          "model_module": "@jupyter-widgets/controls",
          "model_name": "ButtonStyleModel",
          "model_module_version": "1.5.0",
          "state": {
            "_model_module": "@jupyter-widgets/controls",
            "_model_module_version": "1.5.0",
            "_model_name": "ButtonStyleModel",
            "_view_count": null,
            "_view_module": "@jupyter-widgets/base",
            "_view_module_version": "1.2.0",
            "_view_name": "StyleView",
            "button_color": null,
            "font_weight": ""
          }
        },
        "13e877b691da49b8a6133a1613ac42ea": {
          "model_module": "@jupyter-widgets/base",
          "model_name": "LayoutModel",
          "model_module_version": "1.2.0",
          "state": {
            "_model_module": "@jupyter-widgets/base",
            "_model_module_version": "1.2.0",
            "_model_name": "LayoutModel",
            "_view_count": null,
            "_view_module": "@jupyter-widgets/base",
            "_view_module_version": "1.2.0",
            "_view_name": "LayoutView",
            "align_content": null,
            "align_items": null,
            "align_self": null,
            "border": null,
            "bottom": null,
            "display": null,
            "flex": null,
            "flex_flow": null,
            "grid_area": null,
            "grid_auto_columns": null,
            "grid_auto_flow": null,
            "grid_auto_rows": null,
            "grid_column": null,
            "grid_gap": null,
            "grid_row": null,
            "grid_template_areas": null,
            "grid_template_columns": null,
            "grid_template_rows": null,
            "height": null,
            "justify_content": null,
            "justify_items": null,
            "left": null,
            "margin": null,
            "max_height": null,
            "max_width": null,
            "min_height": null,
            "min_width": null,
            "object_fit": null,
            "object_position": null,
            "order": null,
            "overflow": null,
            "overflow_x": null,
            "overflow_y": null,
            "padding": null,
            "right": null,
            "top": null,
            "visibility": null,
            "width": null
          }
        },
        "ed170be5a4e847ad929e5c0a98ae1be6": {
          "model_module": "@jupyter-widgets/controls",
          "model_name": "DescriptionStyleModel",
          "model_module_version": "1.5.0",
          "state": {
            "_model_module": "@jupyter-widgets/controls",
            "_model_module_version": "1.5.0",
            "_model_name": "DescriptionStyleModel",
            "_view_count": null,
            "_view_module": "@jupyter-widgets/base",
            "_view_module_version": "1.2.0",
            "_view_name": "StyleView",
            "description_width": ""
          }
        },
        "908355bb1c1148ae9fcc0f2673498361": {
          "model_module": "@jupyter-widgets/base",
          "model_name": "LayoutModel",
          "model_module_version": "1.2.0",
          "state": {
            "_model_module": "@jupyter-widgets/base",
            "_model_module_version": "1.2.0",
            "_model_name": "LayoutModel",
            "_view_count": null,
            "_view_module": "@jupyter-widgets/base",
            "_view_module_version": "1.2.0",
            "_view_name": "LayoutView",
            "align_content": null,
            "align_items": null,
            "align_self": null,
            "border": null,
            "bottom": null,
            "display": null,
            "flex": null,
            "flex_flow": null,
            "grid_area": null,
            "grid_auto_columns": null,
            "grid_auto_flow": null,
            "grid_auto_rows": null,
            "grid_column": null,
            "grid_gap": null,
            "grid_row": null,
            "grid_template_areas": null,
            "grid_template_columns": null,
            "grid_template_rows": null,
            "height": null,
            "justify_content": null,
            "justify_items": null,
            "left": null,
            "margin": null,
            "max_height": null,
            "max_width": null,
            "min_height": null,
            "min_width": null,
            "object_fit": null,
            "object_position": null,
            "order": null,
            "overflow": null,
            "overflow_x": null,
            "overflow_y": null,
            "padding": null,
            "right": null,
            "top": null,
            "visibility": null,
            "width": null
          }
        }
      }
    }
  },
  "cells": [
    {
      "cell_type": "markdown",
      "metadata": {
        "id": "view-in-github",
        "colab_type": "text"
      },
      "source": [
        "<a href=\"https://colab.research.google.com/github/theoberva/guitar_classifier/blob/main/guitar_app.ipynb\" target=\"_parent\"><img src=\"https://colab.research.google.com/assets/colab-badge.svg\" alt=\"Open In Colab\"/></a>"
      ]
    },
    {
      "cell_type": "code",
      "execution_count": null,
      "metadata": {
        "id": "vD9BOe9-ADf1"
      },
      "outputs": [],
      "source": [
        "!pip install voila\n",
        "!jupyter serverextension enable --sys-prefix voila"
      ]
    },
    {
      "cell_type": "code",
      "source": [
        "! [ -e /content ] && pip install -Uqq fastbook\n",
        "from fastbook import *\n",
        "from fastai.vision.widgets import *"
      ],
      "metadata": {
        "id": "X4DeybjTAog6"
      },
      "execution_count": null,
      "outputs": []
    },
    {
      "cell_type": "code",
      "source": [
        "path = Path()\n",
        "learn_inf = load_learner(path/'export.pkl')\n",
        "learn_inf.dls.vocab"
      ],
      "metadata": {
        "colab": {
          "base_uri": "https://localhost:8080/"
        },
        "id": "OKKE5YWrBl4y",
        "outputId": "6c756ce7-ee99-4d14-b765-74a882a34a5d"
      },
      "execution_count": 13,
      "outputs": [
        {
          "output_type": "execute_result",
          "data": {
            "text/plain": [
              "['fender stratocaster', 'fender telecaster', 'gibson lespaul']"
            ]
          },
          "metadata": {},
          "execution_count": 13
        }
      ]
    },
    {
      "cell_type": "code",
      "source": [
        "#hide_output\n",
        "btn_upload = widgets.FileUpload()\n",
        "btn_upload"
      ],
      "metadata": {
        "colab": {
          "base_uri": "https://localhost:8080/",
          "height": 49,
          "referenced_widgets": [
            "9b7a12bbf8fc4bcb9c04b4ea6fc49148",
            "d20114adf2364c44a2a9b9e0749c4571",
            "0f5e3421d6fb4dba999f24a7785fd81d"
          ]
        },
        "id": "6UXFpsylAd2C",
        "outputId": "ff7b2883-8717-49c3-d718-cd7eb64fade8"
      },
      "execution_count": 5,
      "outputs": [
        {
          "output_type": "display_data",
          "data": {
            "text/plain": [
              "FileUpload(value={}, description='Upload')"
            ],
            "application/vnd.jupyter.widget-view+json": {
              "version_major": 2,
              "version_minor": 0,
              "model_id": "9b7a12bbf8fc4bcb9c04b4ea6fc49148"
            }
          },
          "metadata": {}
        }
      ]
    },
    {
      "cell_type": "code",
      "source": [
        "#hide_output\n",
        "out_pl = widgets.Output()\n",
        "out_pl.clear_output()\n",
        "with out_pl: display(img.to_thumb(128,128))"
      ],
      "metadata": {
        "id": "lb912lmvBNjW"
      },
      "execution_count": 7,
      "outputs": []
    },
    {
      "cell_type": "code",
      "source": [
        "btn_run = widgets.Button(description='Classify')"
      ],
      "metadata": {
        "id": "UsoggryHBRlt"
      },
      "execution_count": 8,
      "outputs": []
    },
    {
      "cell_type": "code",
      "source": [
        "#hide_output\n",
        "lbl_pred = widgets.Label()"
      ],
      "metadata": {
        "id": "7i1DK5evBaEP"
      },
      "execution_count": 14,
      "outputs": []
    },
    {
      "cell_type": "code",
      "source": [
        "def on_click_classify(change):\n",
        "    img = PILImage.create(btn_upload.data[-1])\n",
        "    out_pl.clear_output()\n",
        "    with out_pl: display(img.to_thumb(128,128))\n",
        "    pred,pred_idx,probs = learn_inf.predict(img)\n",
        "    lbl_pred.value = f'Prediction: {pred}; Probability: {probs[pred_idx]:.04f}'\n",
        "\n",
        "btn_run.on_click(on_click_classify)"
      ],
      "metadata": {
        "id": "DO2F7cSNBVup"
      },
      "execution_count": 15,
      "outputs": []
    },
    {
      "cell_type": "code",
      "source": [
        "#hide_output\n",
        "VBox([widgets.Label('Upload your guitar!'),\n",
        "      btn_upload, btn_run, out_pl, lbl_pred])"
      ],
      "metadata": {
        "colab": {
          "base_uri": "https://localhost:8080/",
          "height": 193,
          "referenced_widgets": [
            "aa9b32e69b284898838b80e77ed6fbf2",
            "09aeee7fae834d62a157b4006b44460e",
            "9b7a12bbf8fc4bcb9c04b4ea6fc49148",
            "24ad4dbcf16e4ea0a43335eb957c6741",
            "390fd295c7464465a45837268eed6c6c",
            "ef73e216a0e249ca8f56723fa5454454",
            "534dfada2190433398a6b7bedd834d1f",
            "0364a3aa97d3400293d485f3e07e6d2e",
            "ee8581afb968471b83ccc4b7d3b8d913",
            "d20114adf2364c44a2a9b9e0749c4571",
            "0f5e3421d6fb4dba999f24a7785fd81d",
            "2d36c9f0b9ac49e19ff945cffb9134f7",
            "2c1de732f5d2413b8c456f601936eb3d",
            "13e877b691da49b8a6133a1613ac42ea",
            "ed170be5a4e847ad929e5c0a98ae1be6",
            "908355bb1c1148ae9fcc0f2673498361"
          ]
        },
        "id": "lXm1hVrcBC4y",
        "outputId": "5a5c9071-ea49-42ef-cd53-17c4b147ef82"
      },
      "execution_count": 16,
      "outputs": [
        {
          "output_type": "display_data",
          "data": {
            "text/plain": [
              "VBox(children=(Label(value='Upload your guitar!'), FileUpload(value={}, description='Upload'), Button(descript…"
            ],
            "application/vnd.jupyter.widget-view+json": {
              "version_major": 2,
              "version_minor": 0,
              "model_id": "aa9b32e69b284898838b80e77ed6fbf2"
            }
          },
          "metadata": {}
        },
        {
          "output_type": "display_data",
          "data": {
            "text/plain": [
              "<IPython.core.display.HTML object>"
            ],
            "text/html": [
              "\n",
              "<style>\n",
              "    /* Turns off some styling */\n",
              "    progress {\n",
              "        /* gets rid of default border in Firefox and Opera. */\n",
              "        border: none;\n",
              "        /* Needs to be in here for Safari polyfill so background images work as expected. */\n",
              "        background-size: auto;\n",
              "    }\n",
              "    progress:not([value]), progress:not([value])::-webkit-progress-bar {\n",
              "        background: repeating-linear-gradient(45deg, #7e7e7e, #7e7e7e 10px, #5c5c5c 10px, #5c5c5c 20px);\n",
              "    }\n",
              "    .progress-bar-interrupted, .progress-bar-interrupted::-webkit-progress-bar {\n",
              "        background: #F44336;\n",
              "    }\n",
              "</style>\n"
            ]
          },
          "metadata": {}
        },
        {
          "output_type": "display_data",
          "data": {
            "text/plain": [
              "<IPython.core.display.HTML object>"
            ],
            "text/html": []
          },
          "metadata": {}
        },
        {
          "output_type": "display_data",
          "data": {
            "text/plain": [
              "<IPython.core.display.HTML object>"
            ],
            "text/html": [
              "\n",
              "<style>\n",
              "    /* Turns off some styling */\n",
              "    progress {\n",
              "        /* gets rid of default border in Firefox and Opera. */\n",
              "        border: none;\n",
              "        /* Needs to be in here for Safari polyfill so background images work as expected. */\n",
              "        background-size: auto;\n",
              "    }\n",
              "    progress:not([value]), progress:not([value])::-webkit-progress-bar {\n",
              "        background: repeating-linear-gradient(45deg, #7e7e7e, #7e7e7e 10px, #5c5c5c 10px, #5c5c5c 20px);\n",
              "    }\n",
              "    .progress-bar-interrupted, .progress-bar-interrupted::-webkit-progress-bar {\n",
              "        background: #F44336;\n",
              "    }\n",
              "</style>\n"
            ]
          },
          "metadata": {}
        },
        {
          "output_type": "display_data",
          "data": {
            "text/plain": [
              "<IPython.core.display.HTML object>"
            ],
            "text/html": []
          },
          "metadata": {}
        },
        {
          "output_type": "display_data",
          "data": {
            "text/plain": [
              "<IPython.core.display.HTML object>"
            ],
            "text/html": [
              "\n",
              "<style>\n",
              "    /* Turns off some styling */\n",
              "    progress {\n",
              "        /* gets rid of default border in Firefox and Opera. */\n",
              "        border: none;\n",
              "        /* Needs to be in here for Safari polyfill so background images work as expected. */\n",
              "        background-size: auto;\n",
              "    }\n",
              "    progress:not([value]), progress:not([value])::-webkit-progress-bar {\n",
              "        background: repeating-linear-gradient(45deg, #7e7e7e, #7e7e7e 10px, #5c5c5c 10px, #5c5c5c 20px);\n",
              "    }\n",
              "    .progress-bar-interrupted, .progress-bar-interrupted::-webkit-progress-bar {\n",
              "        background: #F44336;\n",
              "    }\n",
              "</style>\n"
            ]
          },
          "metadata": {}
        },
        {
          "output_type": "display_data",
          "data": {
            "text/plain": [
              "<IPython.core.display.HTML object>"
            ],
            "text/html": []
          },
          "metadata": {}
        },
        {
          "output_type": "display_data",
          "data": {
            "text/plain": [
              "<IPython.core.display.HTML object>"
            ],
            "text/html": [
              "\n",
              "<style>\n",
              "    /* Turns off some styling */\n",
              "    progress {\n",
              "        /* gets rid of default border in Firefox and Opera. */\n",
              "        border: none;\n",
              "        /* Needs to be in here for Safari polyfill so background images work as expected. */\n",
              "        background-size: auto;\n",
              "    }\n",
              "    progress:not([value]), progress:not([value])::-webkit-progress-bar {\n",
              "        background: repeating-linear-gradient(45deg, #7e7e7e, #7e7e7e 10px, #5c5c5c 10px, #5c5c5c 20px);\n",
              "    }\n",
              "    .progress-bar-interrupted, .progress-bar-interrupted::-webkit-progress-bar {\n",
              "        background: #F44336;\n",
              "    }\n",
              "</style>\n"
            ]
          },
          "metadata": {}
        },
        {
          "output_type": "display_data",
          "data": {
            "text/plain": [
              "<IPython.core.display.HTML object>"
            ],
            "text/html": []
          },
          "metadata": {}
        }
      ]
    },
    {
      "cell_type": "code",
      "source": [],
      "metadata": {
        "id": "lofqSG1vCVSY"
      },
      "execution_count": null,
      "outputs": []
    }
  ]
}